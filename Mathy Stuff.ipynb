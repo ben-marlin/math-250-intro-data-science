{
 "cells": [
  {
   "cell_type": "code",
   "execution_count": 15,
   "metadata": {},
   "outputs": [
    {
     "data": {
      "text/plain": [
       "array([ 0,  1,  2,  3,  4,  5,  6,  7,  8,  9, 10, 11, 12, 13, 14, 15, 16,\n",
       "       17, 18, 19, 20, 21, 22, 23, 24, 25, 26, 27, 28, 29, 30, 31, 32, 33,\n",
       "       34, 35, 36, 37, 38, 39, 40, 41, 42, 43, 44, 45, 46, 47, 48, 49, 50,\n",
       "       51, 52, 53, 54, 55, 56, 57, 58, 59, 60, 61, 62, 63, 64, 65, 66, 67,\n",
       "       68, 69, 70, 71, 72, 73, 74, 75, 76, 77, 78, 79, 80, 81, 82, 83, 84,\n",
       "       85, 86, 87, 88, 89, 90, 91, 92, 93, 94, 95, 96, 97, 98, 99])"
      ]
     },
     "execution_count": 15,
     "metadata": {},
     "output_type": "execute_result"
    }
   ],
   "source": [
    "from numpy import *\n",
    "\n",
    "from matplotlib.pyplot import *\n",
    "\n",
    "x = arange(0,100,1)\n",
    "\n",
    "x"
   ]
  },
  {
   "cell_type": "markdown",
   "metadata": {},
   "source": [
    "**Things to note in the above:**\n",
    "\n",
    "`numpy` is the name of the Numerical Python package. It has a lot of super handy things for us math folks. But it also handles some of its objects in a really convenient way. `matplotlib.pyplot` is the package with most of the good graphing features. There's a newer package called `plotly`, which I would recommend you read about, but we're trying to do basic stuff here. \n",
    "\n",
    "Python's power in general comes from handling lists. A list is what you think it is - a list of objects. They can be numbers, strings, or other things we program with. If you have a list named `x` and you want to put the number `57` on the end, you can do so with the command `x.append(57)`.\n",
    "\n",
    "Arrays are pretty similar, but work faster because all the things in the list are of the same type and once the list is created, you can't add more things on the end or change the type of things in it. The example above makes an array named `x`, starting at 0 and stopping before it gets to 100, going in steps of 1. \n",
    "\n",
    "Notice that only the `x` at the end printed anything. If I had left it after the line with the `arange()` command, it wouldn't have printed anything."
   ]
  },
  {
   "cell_type": "code",
   "execution_count": 5,
   "metadata": {},
   "outputs": [
    {
     "name": "stdout",
     "output_type": "stream",
     "text": [
      "0\n",
      "[0 1 2 3 4 5 6 7 8 9]\n",
      "[ 0  3  6  9 12 15 18 21 24 27 30 33 36 39 42 45 48]\n",
      "[99 98 97 96 95 94 93 92 91 90 89 88 87 86 85 84 83 82 81 80 79 78 77 76\n",
      " 75 74 73 72 71 70 69 68 67 66 65 64 63 62 61 60 59 58 57 56 55 54 53 52\n",
      " 51 50 49 48 47 46 45 44 43 42 41 40 39 38 37 36 35 34 33 32 31 30 29 28\n",
      " 27 26 25 24 23 22 21 20 19 18 17 16 15 14 13 12 11 10  9  8  7  6  5  4\n",
      "  3  2  1  0]\n",
      "[90 91 92 93 94 95 96 97 98 99]\n",
      "[0 1 2 3 4]\n"
     ]
    }
   ],
   "source": [
    "print(x[0])\n",
    "\n",
    "print(x[0:10])\n",
    "\n",
    "print(x[0:50:3])\n",
    "\n",
    "print(x[::-1])\n",
    "\n",
    "print(x[90:])\n",
    "\n",
    "print(x[:5])"
   ]
  },
  {
   "cell_type": "markdown",
   "metadata": {},
   "source": [
    "**Things to note in the above:**\n",
    "    \n",
    "If you want to print something, you can do so with a `print()` command. Generally, this is easy enough and can follow a format like `print(\"This is a string and prints what's between the quotes and \",x[1],\" thing at a time.\")` - which does what you'd think.\n",
    "\n",
    "The tricky bit is that to read something in a list or an array (or a `tuple`), you give the name, square brackets, and the position. But... computers number the first thing as position `0`. But if you want to print the last thing, you can ask for `x[-1]`, which doesn't work in all other languages!\n",
    "\n",
    "The cool thing is the next one: `x[0:10]` is an example of what we call `slicing`. It starts with position 0 and stops just before position 10.\n",
    "\n",
    "The other cool thing is the steps: `x[0:50:3]` says to read `x` starting at position 0, ending before 50, and taking steps of 3. A step size of -1 goes in the opposite direction. Which is handy for some applications.\n",
    "\n",
    "Finally, you don't have to list the parts that aren't important to you. Start at position 90, end before position 5, etc."
   ]
  },
  {
   "cell_type": "code",
   "execution_count": 11,
   "metadata": {},
   "outputs": [
    {
     "data": {
      "text/plain": [
       "[<matplotlib.lines.Line2D at 0x1fab4d3b6a0>]"
      ]
     },
     "execution_count": 11,
     "metadata": {},
     "output_type": "execute_result"
    },
    {
     "data": {
      "image/png": "[encoded data removed]",
      "text/plain": [
       "<matplotlib.figure.Figure at 0x1fab4c9e6d8>"
      ]
     },
     "metadata": {},
     "output_type": "display_data"
    }
   ],
   "source": [
    "t = linspace(0.0,2.0*pi,101)\n",
    "\n",
    "y = sin(t)\n",
    "\n",
    "plot(t,y)"
   ]
  },
  {
   "cell_type": "markdown",
   "metadata": {},
   "source": [
    "**Things to note in the above:**\n",
    "\n",
    "This is a new way to make a numpy array, called `linspace`. It requires `linspace(start,stop,numberofpoints)`. Generally, I use `arange()`, but others like `linspace()`. If you printed those, it would start with 0, end with 6.28 or so, and have a lot of numbers between. Ho-hum, not really exciting.\n",
    "\n",
    "The excitement is in the next line. The function `sin()` (pronounced as sine) is common in math, physics, engineering, etc. It's built in for regular Python, but when we imported `numpy`, we snuck in a special version of the function. Whereas regular `sin()` can only receive one value at a time - forcing you to loop through it to calculate `y` - the `numpy` version just does all of them in the array at one go. It saves a fair bit of time in coding science applications.\n",
    "\n",
    "Then the `plot()` command takes all the x coordinates from the first entry and all the y coordinates from the second one. If you want to be fancy, you can change the color and style of line by including something like 'g-' as a third entry."
   ]
  },
  {
   "cell_type": "code",
   "execution_count": 21,
   "metadata": {},
   "outputs": [
    {
     "name": "stdout",
     "output_type": "stream",
     "text": [
      "[0, 1, 4, 9, 16, 25, 36, 49, 64, 81]\n"
     ]
    },
    {
     "data": {
      "text/plain": [
       "[0, 1, 4, 9, 16, 25, 36, 49, 64, 81]"
      ]
     },
     "execution_count": 21,
     "metadata": {},
     "output_type": "execute_result"
    }
   ],
   "source": [
    "squares = []\n",
    "\n",
    "for entry in x[:10]:\n",
    "    squares.append(entry ** 2)\n",
    "    \n",
    "print(squares)\n",
    "squares"
   ]
  },
  {
   "cell_type": "code",
   "execution_count": 29,
   "metadata": {},
   "outputs": [
    {
     "name": "stdout",
     "output_type": "stream",
     "text": [
      "[   0    1    4    9   16   25   36   49   64   81  100  121  144  169\n",
      "  196  225  256  289  324  361  400  441  484  529  576  625  676  729\n",
      "  784  841  900  961 1024 1089 1156 1225 1296 1369 1444 1521 1600 1681\n",
      " 1764 1849 1936 2025 2116 2209 2304 2401 2500 2601 2704 2809 2916 3025\n",
      " 3136 3249 3364 3481 3600 3721 3844 3969 4096 4225 4356 4489 4624 4761\n",
      " 4900 5041 5184 5329 5476 5625 5776 5929 6084 6241 6400 6561 6724 6889\n",
      " 7056 7225 7396 7569 7744 7921 8100 8281 8464 8649 8836 9025 9216 9409\n",
      " 9604 9801]\n",
      "[   0   98  194  288  380  470  558  644  728  810  890  968 1044 1118\n",
      " 1190 1260 1328 1394 1458 1520 1580 1638 1694 1748 1800 1850 1898 1944\n",
      " 1988 2030 2070 2108 2144 2178 2210 2240 2268 2294 2318 2340 2360 2378\n",
      " 2394 2408 2420 2430 2438 2444 2448 2450 2450 2448 2444 2438 2430 2420\n",
      " 2408 2394 2378 2360 2340 2318 2294 2268 2240 2210 2178 2144 2108 2070\n",
      " 2030 1988 1944 1898 1850 1800 1748 1694 1638 1580 1520 1458 1394 1328\n",
      " 1260 1190 1118 1044  968  890  810  728  644  558  470  380  288  194\n",
      "   98    0]\n"
     ]
    }
   ],
   "source": [
    "print(x * x)\n",
    "\n",
    "print(x * x[::-1])"
   ]
  },
  {
   "cell_type": "code",
   "execution_count": 27,
   "metadata": {},
   "outputs": [
    {
     "ename": "TypeError",
     "evalue": "can't multiply sequence by non-int of type 'list'",
     "output_type": "error",
     "traceback": [
      "\u001b[1;31m---------------------------------------------------------------------------\u001b[0m",
      "\u001b[1;31mTypeError\u001b[0m                                 Traceback (most recent call last)",
      "\u001b[1;32m<ipython-input-27-f102c52ec6be>\u001b[0m in \u001b[0;36m<module>\u001b[1;34m()\u001b[0m\n\u001b[1;32m----> 1\u001b[1;33m \u001b[0msquares\u001b[0m \u001b[1;33m*\u001b[0m \u001b[0msquares\u001b[0m\u001b[1;33m\u001b[0m\u001b[0m\n\u001b[0m",
      "\u001b[1;31mTypeError\u001b[0m: can't multiply sequence by non-int of type 'list'"
     ]
    }
   ],
   "source": [
    "squares * squares"
   ]
  },
  {
   "cell_type": "markdown",
   "metadata": {},
   "source": [
    "**Things to note in the above:**\n",
    "\n",
    "Notice that `[]` denotes an empty list. `x[:10]` is the integers 0 to 9. The `for entry in iterator` structure walks through an array, list, or tuple in order, passing each one as the entry. The statements indented below it are \"in\" the loop and get done once on each pass.\n",
    "\n",
    "I used print and just listing `squares` to show they do the same thing. But if you just list two things, it will only show the last one.\n",
    "\n",
    "Now, note that you can multiply `numpy` arrays of the same size - but not lists! Some packages defy that convention, but we'll cross that bridge when we come to it."
   ]
  },
  {
   "cell_type": "code",
   "execution_count": 30,
   "metadata": {},
   "outputs": [
    {
     "data": {
      "text/plain": [
       "array([0.30521896, 0.83884774, 0.57874862, 0.81059153, 0.44133768,\n",
       "       0.2352927 , 0.77401892, 0.8504413 , 0.9753788 , 0.83604738])"
      ]
     },
     "execution_count": 30,
     "metadata": {},
     "output_type": "execute_result"
    }
   ],
   "source": [
    "from numpy.random import *\n",
    "\n",
    "a = rand(10)\n",
    "\n",
    "a"
   ]
  },
  {
   "cell_type": "code",
   "execution_count": 33,
   "metadata": {},
   "outputs": [
    {
     "data": {
      "text/plain": [
       "array([-2,  1, -4,  1, -2, -1, -4,  0,  1, -2,  0, -2, -1,  3, -1,  1, -4,\n",
       "        0,  0,  2,  0, -2, -3, -2, -4, -3,  0, -2,  0, -2, -4, -3, -4, -3,\n",
       "       -4,  3, -3, -1,  2, -2, -1, -4,  0,  1, -3,  2, -1,  0, -4,  1, -3,\n",
       "        1,  3,  0, -1,  1, -4,  2,  3,  0, -3, -1,  1, -4,  0, -3, -3, -1,\n",
       "        0,  2, -1,  3,  3,  3,  2, -3,  1, -2,  2,  3, -1, -2,  2, -4,  1,\n",
       "        2,  3, -1, -1, -1,  1, -1,  2,  2,  1, -2,  1, -1, -1, -3])"
      ]
     },
     "execution_count": 33,
     "metadata": {},
     "output_type": "execute_result"
    }
   ],
   "source": [
    "b = randint(-4,4,100)\n",
    "\n",
    "b"
   ]
  },
  {
   "cell_type": "markdown",
   "metadata": {},
   "source": [
    "**Things to note above:** \n",
    "    \n",
    "We'll need to do some simulations with random number generators to understand statistical methods, so it's best to talk about these now. Notice they come from `numpy.random`, but there's an even better package called `scipy.stats` - it basically steals all of `numpy`'s best features and adds more on top. In your copious free time, see what you can find out!\n",
    "\n",
    "So `rand()` produces a number from 0 to 1 with a resolution of 0.00000001. I don't know whether the ends are included, but the odds of picking those are basically 0, so it makes little difference. And `randint()` picks an integer - those who know Excel may expect it to be `randbetween()` - I know I did. The last entry on each tells it how many to drop into a `numpy` array.\n",
    "\n",
    "Notice that, out of 100 times, `randint()` didn't get a single 4 - that tells you it must not be a possiblity, which is consistent with the `arange()` syntax. "
   ]
  },
  {
   "cell_type": "code",
   "execution_count": 37,
   "metadata": {},
   "outputs": [
    {
     "data": {
      "text/plain": [
       "[<matplotlib.lines.Line2D at 0x1fab4e92208>]"
      ]
     },
     "execution_count": 37,
     "metadata": {},
     "output_type": "execute_result"
    },
    {
     "data": {
      "image/png": "[encoded data removed]",
      "text/plain": [
       "<matplotlib.figure.Figure at 0x1fab4e921d0>"
      ]
     },
     "metadata": {},
     "output_type": "display_data"
    }
   ],
   "source": [
    "def f(x):\n",
    "    temp = 4 * x - x**2\n",
    "    return temp\n",
    "\n",
    "t = arange(-1,5,0.01)\n",
    "\n",
    "y = f(t)\n",
    "\n",
    "plot(t,y,'r--')\n",
    "\n",
    "plot(t,sin(t),'go')"
   ]
  },
  {
   "cell_type": "markdown",
   "metadata": {},
   "source": [
    "**Notes about above:**\n",
    "\n",
    "This shows you how to create a function - which is basically the power that makes computers work in general! `def` tells it to create a function, the name is `f` and the variable or variables in the parentheses are the input. You can write relatively complicated code to make the function evaluate, or just put a single expression after the word `return`. Notice everything inside the function belongs indented below it!\n",
    "\n",
    "Weird bit - do you remember the old commercials that said \"What happens in Vegas, stays in Vegas\"? Well, variables in the function stay in the function. So the `x` in `f(x)` isn't actually the same thing as the list of `x` values we used earlier. And if you try to refer to the variable `temp` outside the code for `f`, you'll get an error.\n",
    "\n",
    "Notice that the plot used red dashed lines because of the 'r--' and that the 'go' is a thick line because it's drawing circle at the dots."
   ]
  },
  {
   "cell_type": "code",
   "execution_count": 40,
   "metadata": {},
   "outputs": [
    {
     "data": {
      "image/png": "[encoded data removed]",
      "text/plain": [
       "<matplotlib.figure.Figure at 0x1fab6d53588>"
      ]
     },
     "metadata": {},
     "output_type": "display_data"
    }
   ],
   "source": [
    "import numpy as np\n",
    "import numpy.random as rng\n",
    "import matplotlib.pyplot as plt\n",
    "from scipy import stats\n",
    "\n",
    "                              #Generate some data:\n",
    "x = rng.random(10)\n",
    "y = 1.6*x + rng.random(10)\n",
    "\n",
    "\n",
    "                              #Perform the linear regression:\n",
    "res = stats.linregress(x, y)\n",
    "\n",
    "\n",
    "                              #Plot the data \n",
    "plt.plot(x, y, 'o', label='original data')\n",
    "\n",
    "                                # Plot the fitted line:\n",
    "\n",
    "m = res.slope\n",
    "b = res.intercept\n",
    "    \n",
    "plt.plot(x, m * x + b, 'r', label='fitted line')\n",
    "plt.legend()\n",
    "plt.show()"
   ]
  },
  {
   "cell_type": "markdown",
   "metadata": {},
   "source": [
    "**Notes about above:**\n",
    "\n",
    "That `scipy` package shows up here! We want to find a line that approximates some data. In this case, it's a bunch of random points, but in practice you'd have data from an actual experiment or study. Often, you're fitting other functions, but this is just our basic example for now.\n",
    "\n",
    "As in an earlier example, `random(10)` generates 10 random numbers from 0 to 1. The different syntax illustrates some coding you may see in examples. Then we take 1.6x and add a random value from 0 to 1, meaning the data is on average on the line y = 1.6x + 0.5. \n",
    "\n",
    "The next bit is pretty abstract. `res = stats.linregress(x,y)` takes the data, figures out what line fits it best, and stores a bunch of info in an object called `res`. Then `res.slope` and `res.intercept` reads out what you'd assume. There's also a `res.rvalue` which tells you how good the fit is, but that's not important here.\n",
    "\n",
    "Finally, notice the legend helps you distinguish by color your two plots."
   ]
  }
 ],
 "metadata": {
  "kernelspec": {
   "display_name": "Python 3",
   "language": "python",
   "name": "python3"
  },
  "language_info": {
   "codemirror_mode": {
    "name": "ipython",
    "version": 3
   },
   "file_extension": ".py",
   "mimetype": "text/x-python",
   "name": "python",
   "nbconvert_exporter": "python",
   "pygments_lexer": "ipython3",
   "version": "3.6.4"
  }
 },
 "nbformat": 4,
 "nbformat_minor": 2
}
